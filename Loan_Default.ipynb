{
 "cells": [
  {
   "cell_type": "markdown",
   "metadata": {},
   "source": [
    "### Multiprocessing - test\n",
    "\n",
    "https://www.kaggle.com/roshansharma/ltfs-loan-default-prediction"
   ]
  },
  {
   "cell_type": "code",
   "execution_count": 153,
   "metadata": {
    "scrolled": true
   },
   "outputs": [
    {
     "name": "stdout",
     "output_type": "stream",
     "text": [
      "Number of cpu :  4\n"
     ]
    }
   ],
   "source": [
    "import multiprocessing\n",
    "\n",
    "print(\"Number of cpu : \", multiprocessing.cpu_count())"
   ]
  },
  {
   "cell_type": "markdown",
   "metadata": {},
   "source": [
    "### NOTE: Preprocessing template. \n",
    "\n",
    "Why use Pool() and not Process()?\n",
    "\n",
    "https://towardsdatascience.com/speed-up-your-algorithms-part-3-parallelization-4d95c0888748"
   ]
  },
  {
   "cell_type": "code",
   "execution_count": 154,
   "metadata": {},
   "outputs": [],
   "source": [
    "# import \n",
    "\n",
    "import pandas as pd\n",
    "import numpy as np\n",
    "import matplotlib.pyplot as plt\n",
    "from sklearn import preprocessing\n",
    "import seaborn as sns"
   ]
  },
  {
   "cell_type": "code",
   "execution_count": 155,
   "metadata": {},
   "outputs": [],
   "source": [
    "# Function to crate a figure and get instance of Axis.\n",
    "def axex(size):\n",
    "    fig = plt.figure(figsize=(size[0],size[1])) # define plot area\n",
    "    ax = fig.gca() # define axis  \n",
    "    return ax"
   ]
  },
  {
   "cell_type": "code",
   "execution_count": 156,
   "metadata": {},
   "outputs": [],
   "source": [
    "loan_data = pd.read_csv('../Hackathon/Data/train.csv',low_memory=False)\n",
    "# loan_data = pd.read_csv('../input/train.csv')"
   ]
  },
  {
   "cell_type": "code",
   "execution_count": null,
   "metadata": {},
   "outputs": [],
   "source": [
    "loan_data.describe().T"
   ]
  },
  {
   "cell_type": "code",
   "execution_count": null,
   "metadata": {},
   "outputs": [],
   "source": [
    "loan_data.info()"
   ]
  },
  {
   "cell_type": "code",
   "execution_count": null,
   "metadata": {},
   "outputs": [],
   "source": [
    "loan_data.head()"
   ]
  },
  {
   "cell_type": "code",
   "execution_count": null,
   "metadata": {},
   "outputs": [],
   "source": [
    "#  Count of unique member id\n",
    "len(loan_data['UniqueID'].value_counts())"
   ]
  },
  {
   "cell_type": "code",
   "execution_count": null,
   "metadata": {},
   "outputs": [],
   "source": [
    "type(loan_data['Date.of.Birth'][0])"
   ]
  },
  {
   "cell_type": "code",
   "execution_count": null,
   "metadata": {},
   "outputs": [],
   "source": [
    "# loan_data['loan_amnt'].isnull().sum()\n",
    "\n",
    "# Function to find sum and percent of missing values for each column.\n",
    "# Remove the one's that have no missing values.\n",
    "\n",
    "def missing_values(df):\n",
    "#     Sum null values. Then divide by the total occurrence\n",
    "    sum = (df == 0).sum() \n",
    "    percent = (df == 0).sum()/len(df)*100\n",
    "    missing_stats = pd.concat([sum, percent], axis=1).rename(\n",
    "        columns = {\n",
    "            0: 'Number',\n",
    "            1: 'Percent'\n",
    "        }\n",
    "    )\n",
    "#   drop all rows that are equal to 0.\n",
    "    missing_stats = missing_stats[missing_stats.iloc[:,1] != 0]\n",
    "    missing_stats.reset_index(inplace=True)\n",
    "    missing_stats.sort_values('Percent', inplace=True)\n",
    "    \n",
    "    return missing_stats\n"
   ]
  },
  {
   "cell_type": "code",
   "execution_count": null,
   "metadata": {},
   "outputs": [],
   "source": [
    "missing_values(loan_data)"
   ]
  },
  {
   "cell_type": "code",
   "execution_count": null,
   "metadata": {},
   "outputs": [],
   "source": [
    "#  Removing columns with more than 70% of missing data.\n",
    "# Get a threshold of what is 30% \n",
    "# print(loan_data.count())\n",
    "\n",
    "# temp = [i for i in loan_data.count()<887379 *0.30]\n",
    "# loan_data.drop(loan_data.columns[temp],axis=1,inplace=True)"
   ]
  },
  {
   "cell_type": "markdown",
   "metadata": {},
   "source": [
    "# EDA"
   ]
  },
  {
   "cell_type": "markdown",
   "metadata": {},
   "source": [
    "## Loan data vs..."
   ]
  },
  {
   "cell_type": "code",
   "execution_count": null,
   "metadata": {},
   "outputs": [],
   "source": [
    "ax = axex([10,10])\n",
    "\n",
    "# Average annual income plot\n",
    "loan_data[['loan_default', 'Current_pincode_ID']].groupby(['Current_pincode_ID']).sum().plot(ax = ax)"
   ]
  },
  {
   "cell_type": "markdown",
   "metadata": {},
   "source": [
    "## Data distribution"
   ]
  },
  {
   "cell_type": "markdown",
   "metadata": {},
   "source": [
    "LTV vs distribution\n",
    "ltv vs amount\n",
    "LD of salaried and self_employed"
   ]
  },
  {
   "cell_type": "code",
   "execution_count": null,
   "metadata": {},
   "outputs": [],
   "source": [
    "def univariate(df,col,vartype,hue =None, fig_size=None):\n",
    "    \n",
    "    '''\n",
    "    Univariate function will plot the graphs based on the parameters.\n",
    "    df      : dataframe name\n",
    "    col     : Column name\n",
    "    vartype : variable type : continuos or categorical\n",
    "                Continuos(0)   : Distribution, Violin & Boxplot will be plotted.\n",
    "                Categorical(1) : Countplot will be plotted.\n",
    "    hue     : It's only applicable for categorical analysis.\n",
    "    \n",
    "    '''\n",
    "    sns.set(style=\"darkgrid\")\n",
    "    \n",
    "    if vartype == 0:\n",
    "        fig, ax=plt.subplots(nrows =1,ncols=3,figsize=(20,8))\n",
    "        ax[0].set_title(\"Distribution Plot\")\n",
    "        sns.distplot(df[col],ax=ax[0])\n",
    "        ax[1].set_title(\"Violin Plot\")\n",
    "        sns.violinplot(y=col, x=\"loan_default\",ax=ax[1], data=df,hue=hue)\n",
    "        ax[2].set_title(\"Box Plot\")\n",
    "        sns.boxplot(data =df, x=col,ax=ax[2],orient='v')\n",
    "    \n",
    "    if vartype == 1:\n",
    "        temp = pd.Series(data = hue)\n",
    "        fig, ax = plt.subplots()\n",
    "        plt.rcParams['figure.figsize'] = (19, 6)\n",
    "        width = len(df[col].unique()) + 6 + 4*len(temp.unique())\n",
    "        fig.set_size_inches(width , 7)\n",
    "        ax = sns.countplot(data = df, x= col, order=df[col].value_counts().index,hue = hue) \n",
    "        if len(temp.unique()) > 0:\n",
    "            for p in ax.patches:\n",
    "                if p.get_height() > 0:\n",
    "                    ax.annotate('{:1.1f}%'.format((p.get_height()*100)/float(len(loan_data))), (p.get_x()+0.05, p.get_height()+20))  \n",
    "        else:\n",
    "            for p in ax.patches:\n",
    "                ax.annotate(p.get_height(), (p.get_x()+0.32, p.get_height()+20)) \n",
    "        del temp\n",
    "    else:\n",
    "        exit\n",
    "    plt.xticks(rotation = 45)    \n",
    "    plt.show()"
   ]
  },
  {
   "cell_type": "code",
   "execution_count": null,
   "metadata": {},
   "outputs": [],
   "source": [
    "temp = pd.Series(data = 'hue')"
   ]
  },
  {
   "cell_type": "markdown",
   "metadata": {},
   "source": [
    "### Continuous variables"
   ]
  },
  {
   "cell_type": "code",
   "execution_count": null,
   "metadata": {},
   "outputs": [],
   "source": [
    "# dibursed_amount\n",
    "univariate(df=loan_data,col='disbursed_amount',vartype=0)"
   ]
  },
  {
   "cell_type": "code",
   "execution_count": null,
   "metadata": {},
   "outputs": [],
   "source": [
    "# loan_data.loc[(loan_data['disbursed_amount'] > 180000)]['loan_default']\n",
    "\n",
    "loan_data.disbursed_amount.describe()"
   ]
  },
  {
   "cell_type": "code",
   "execution_count": null,
   "metadata": {},
   "outputs": [],
   "source": [
    "loan_data.loc[(loan_data['disbursed_amount'] > 100000) &\\\n",
    "              (loan_data['loan_default'] == 0)]['loan_default'].count()"
   ]
  },
  {
   "cell_type": "markdown",
   "metadata": {},
   "source": [
    "__Remove rows containing anomalies (amt > 1lk)? what do these anomalies mean?__"
   ]
  },
  {
   "cell_type": "code",
   "execution_count": null,
   "metadata": {},
   "outputs": [],
   "source": [
    "univariate(df=loan_data,col='asset_cost',vartype=0)"
   ]
  },
  {
   "cell_type": "markdown",
   "metadata": {},
   "source": [
    "__drop asset_cost > 1lkh?__"
   ]
  },
  {
   "cell_type": "code",
   "execution_count": null,
   "metadata": {},
   "outputs": [],
   "source": [
    "# LTV\n",
    "univariate(df=loan_data,col='ltv',vartype=0, hue='Employment.Type')"
   ]
  },
  {
   "cell_type": "code",
   "execution_count": null,
   "metadata": {},
   "outputs": [],
   "source": [
    "# Distribution of LTV based on loan_defaults.\n",
    "\n",
    "fig, ax=plt.subplots(nrows =1,ncols=2,figsize=(20,8))\n",
    "ax[0].set_title(\"ltv non defaulters\")\n",
    "sns.distplot(loan_data[loan_data['loan_default'] == 0]['ltv'], ax=ax[0])\n",
    "ax[1].set_title(\"ltv defaulters\")\n",
    "sns.distplot(loan_data[loan_data['loan_default'] == 1]['ltv'], ax=ax[1])\n"
   ]
  },
  {
   "cell_type": "code",
   "execution_count": null,
   "metadata": {},
   "outputs": [],
   "source": [
    "loan_data.ltv.describe()"
   ]
  },
  {
   "cell_type": "code",
   "execution_count": null,
   "metadata": {},
   "outputs": [],
   "source": [
    "#performing log transformations on disbursed amount, ltv, and asset cost\n",
    "\n",
    "loan_data['disbursed_amount'] = np.log1p(loan_data['disbursed_amount'])\n",
    "loan_data['ltv'] = np.log1p(loan_data['ltv'])\n",
    "loan_data['asset_cost'] = np.log1p(loan_data['asset_cost'])\n",
    "\n",
    "# univariate(df=loan_data,col='disbursed_amount',vartype=0)\n",
    "# univariate(df=loan_data,col='asset_cost',vartype=0)\n",
    "# univariate(df=loan_data,col='ltv',vartype=0)\n",
    "plt.rcParams['figure.figsize'] = (18, 5)\n",
    "\n",
    "plt.subplot(1, 3, 1)\n",
    "sns.distplot(loan_data['disbursed_amount'],  color = 'orange')\n",
    "plt.title('Disburesed Amount')\n",
    "\n",
    "plt.subplot(1, 3, 2)\n",
    "sns.distplot(loan_data['asset_cost'], color = 'pink')\n",
    "plt.title('Asset Cost')\n",
    "\n",
    "plt.subplot(1, 3, 3)\n",
    "sns.distplot(loan_data['ltv'], color = 'red')\n",
    "plt.title('Loan to value of the asset')\n",
    "\n",
    "plt.show()"
   ]
  },
  {
   "cell_type": "code",
   "execution_count": null,
   "metadata": {},
   "outputs": [],
   "source": [
    "len(loan_data.loc[(loan_data['ltv'] < 40) & (loan_data['loan_default'] == 1)])\n",
    "\n",
    "# Lower the ltv == more money with self."
   ]
  },
  {
   "cell_type": "code",
   "execution_count": null,
   "metadata": {},
   "outputs": [],
   "source": [
    "# distribution of cns score\n",
    "univariate(df=loan_data,col='PERFORM_CNS.SCORE',vartype=0)"
   ]
  },
  {
   "cell_type": "code",
   "execution_count": null,
   "metadata": {},
   "outputs": [],
   "source": [
    "loan_data['PERFORM_CNS.SCORE'].describe()"
   ]
  },
  {
   "cell_type": "code",
   "execution_count": null,
   "metadata": {},
   "outputs": [],
   "source": [
    "# Default and no credit rating score\n",
    "x = len(loan_data.loc[(loan_data['PERFORM_CNS.SCORE'] == 0) &\\\n",
    "              (loan_data['loan_default'] == 1)])\n",
    "\n",
    "y = len(loan_data.loc[(loan_data['PERFORM_CNS.SCORE'] == 0)])\n",
    "\n",
    "# percent defaulted with no CNS score.\n",
    "print(x/y)"
   ]
  },
  {
   "cell_type": "code",
   "execution_count": null,
   "metadata": {},
   "outputs": [],
   "source": [
    "len(loan_data[(loan_data['loan_default'] == 1) & (loan_data['PRIMARY.INSTAL.AMT'] > 0)])\n",
    "print(len(loan_data[(loan_data['PRIMARY.INSTAL.AMT'] > 0)]))"
   ]
  },
  {
   "cell_type": "code",
   "execution_count": null,
   "metadata": {},
   "outputs": [],
   "source": [
    "# distribution of EMI amount\n",
    "# univariate(df=loan_data,col='PRIMARY.INSTAL.AMT',vartype=0)\n",
    "ax = axex([10,10])\n",
    "loan_data['PRIMARY.INSTAL.AMT'].plot.hist(ax=ax)"
   ]
  },
  {
   "cell_type": "markdown",
   "metadata": {},
   "source": [
    "### Categorical Variables"
   ]
  },
  {
   "cell_type": "code",
   "execution_count": null,
   "metadata": {},
   "outputs": [],
   "source": [
    "len(loan_data)"
   ]
  },
  {
   "cell_type": "code",
   "execution_count": null,
   "metadata": {},
   "outputs": [],
   "source": [
    "print(loan_data['loan_default'].value_counts())\n",
    "print(50611/182543)"
   ]
  },
  {
   "cell_type": "code",
   "execution_count": null,
   "metadata": {},
   "outputs": [],
   "source": [
    "# Employment type count plot\n",
    "univariate(df=loan_data,col='Employment.Type',vartype=1)\n"
   ]
  },
  {
   "cell_type": "code",
   "execution_count": null,
   "metadata": {},
   "outputs": [],
   "source": [
    "univariate(df=loan_data[(loan_data['Employment.Type'] == 'Salaried')],col='loan_default',vartype=1)"
   ]
  },
  {
   "cell_type": "code",
   "execution_count": null,
   "metadata": {},
   "outputs": [],
   "source": [
    "19910/77948"
   ]
  },
  {
   "cell_type": "code",
   "execution_count": null,
   "metadata": {},
   "outputs": [],
   "source": [
    "univariate(df=loan_data[(loan_data['Employment.Type'] == 'Self employed')],col='loan_default',vartype=1)"
   ]
  },
  {
   "cell_type": "code",
   "execution_count": null,
   "metadata": {},
   "outputs": [],
   "source": [
    "29057/98578"
   ]
  },
  {
   "cell_type": "code",
   "execution_count": null,
   "metadata": {},
   "outputs": [],
   "source": [
    "# Count of loan applicant from each state\n",
    "univariate(df=loan_data,col='State_ID',vartype=1)"
   ]
  },
  {
   "cell_type": "code",
   "execution_count": null,
   "metadata": {},
   "outputs": [],
   "source": [
    "# LD vs Sate\n",
    "univariate(df=loan_data,col='State_ID',vartype=1, hue='loan_default')\n"
   ]
  },
  {
   "cell_type": "code",
   "execution_count": null,
   "metadata": {},
   "outputs": [],
   "source": [
    "# Count of instances per manufacturer\n",
    "univariate(df=loan_data,col='manufacturer_id',vartype=1)"
   ]
  },
  {
   "cell_type": "code",
   "execution_count": null,
   "metadata": {},
   "outputs": [],
   "source": [
    "len(loan_data.loc[(loan_data['manufacturer_id'] == 152) |\\\n",
    "              (loan_data['manufacturer_id'] == 153) |\\\n",
    "              (loan_data['manufacturer_id'] == 156)\n",
    "             ])"
   ]
  },
  {
   "cell_type": "markdown",
   "metadata": {},
   "source": [
    "Drop manu_id 152, 153, 156 ? total == 19 "
   ]
  },
  {
   "cell_type": "code",
   "execution_count": null,
   "metadata": {},
   "outputs": [],
   "source": [
    "loan_data['manufacturer_id'].value_counts().index"
   ]
  },
  {
   "cell_type": "code",
   "execution_count": null,
   "metadata": {},
   "outputs": [],
   "source": [
    "loan_data.loc[(loan_data['manufacturer_id'] == 153) & (loan_data['loan_default']==1)]['loan_default']\n"
   ]
  },
  {
   "cell_type": "code",
   "execution_count": null,
   "metadata": {},
   "outputs": [],
   "source": [
    "univariate(df=loan_data,col='manufacturer_id',vartype=1)"
   ]
  },
  {
   "cell_type": "code",
   "execution_count": null,
   "metadata": {},
   "outputs": [],
   "source": [
    "# LD vs manufacturer\n",
    "\n",
    "'''\n",
    "    152 and 156 have no defaults. p.get_height() is returning a nan value if value = 0.\n",
    "    153 has 4 loan_defaults. percentage base is entire df len. therefore 0% for 153 comes \n",
    "    after flooring the percent value.\n",
    "    '''\n",
    "univariate(df=loan_data,col='manufacturer_id',vartype=1, hue='loan_default')\n"
   ]
  },
  {
   "cell_type": "code",
   "execution_count": null,
   "metadata": {},
   "outputs": [],
   "source": [
    "# # Count of instances per branch_id\n",
    "# univariate(df=loan_data,col='branch_id',vartype=1)\n",
    "\n",
    "# LD grouped by branchid. \n",
    "\n",
    "ax = axex([15,10])\n",
    "\n",
    "loan_data[['loan_default', 'branch_id']].\\\n",
    "    groupby('branch_id').\\\n",
    "    count().\\\n",
    "    plot.bar(ax=ax)\n",
    "\n",
    "\n",
    "ax.set_title('LD vs Branch')\n",
    "ax.set_xlabel('Branch')\n",
    "ax.set_ylabel('LD')"
   ]
  },
  {
   "cell_type": "code",
   "execution_count": null,
   "metadata": {},
   "outputs": [],
   "source": []
  },
  {
   "cell_type": "code",
   "execution_count": null,
   "metadata": {},
   "outputs": [],
   "source": [
    "fig, ax = plt.subplots()\n",
    "fig.set_size_inches(20 ,20)\n",
    "ax = sns.countplot(data = loan_data, x= 'branch_id', order=loan_data['branch_id'].\\\n",
    "                   value_counts().index,hue = 'loan_default')\n",
    "for p in ax.patches:\n",
    "#     \n",
    "    if p.get_height() > 0:\n",
    "        ax.annotate('{:1.1f}'.format((p.get_height())),\\\n",
    "                    (p.get_x()+0.05, p.get_height()+20))"
   ]
  },
  {
   "cell_type": "markdown",
   "metadata": {},
   "source": [
    "__Additional plots__"
   ]
  },
  {
   "cell_type": "code",
   "execution_count": null,
   "metadata": {},
   "outputs": [],
   "source": [
    "\n",
    "# fig, ax=plt.subplots(nrows =1,ncols=2,figsize=(30,8))\n",
    "# ax[0].set_title('Credit History')\n",
    "# sns.countplot(loan_data['CREDIT.HISTORY.LENGTH'].head(50))\n",
    "# plt.xticks(rotation = 45)\n",
    "\n",
    "# ax[1].set_title('Average Loan Tenure')\n",
    "# sns.countplot(loan_data['AVERAGE.ACCT.AGE'].head(50), palette = 'colorblind')\n",
    "# plt.xticks(rotation = 45)\n",
    "\n",
    "# # plotting countplot for credit history of users\n",
    "\n",
    "plt.rcParams['figure.figsize'] = (18, 5)\n",
    "sns.countplot(loan_data['CREDIT.HISTORY.LENGTH'].head(50))\n",
    "plt.title('Credit History')\n",
    "plt.xticks(rotation = 45)\n",
    "\n",
    "# univariate(df=loan_data.head(50),col='CREDIT.HISTORY.LENGTH',vartype=1)"
   ]
  },
  {
   "cell_type": "code",
   "execution_count": null,
   "metadata": {},
   "outputs": [],
   "source": [
    "# average.acct.age i.e., average loan tenure\n",
    "\n",
    "sns.countplot(loan_data['AVERAGE.ACCT.AGE'].head(50), palette = 'colorblind')\n",
    "plt.title('Average Loan Tenure')\n",
    "plt.xticks(rotation = 45)"
   ]
  },
  {
   "cell_type": "markdown",
   "metadata": {},
   "source": [
    "__Convert credit.history.length to number of months__ \n",
    "Should we convert to years??"
   ]
  },
  {
   "cell_type": "code",
   "execution_count": null,
   "metadata": {},
   "outputs": [],
   "source": [
    "# change_to_months(loan_data)\n",
    "\n",
    "# plt.rcParams['figure.figsize'] = (18, 5)\n",
    "# sns.countplot(loan_data['cred_hist_len'].head(50))\n",
    "# plt.title('Credit History')\n",
    "# plt.xticks(rotation = 45)\n"
   ]
  },
  {
   "cell_type": "code",
   "execution_count": null,
   "metadata": {},
   "outputs": [],
   "source": [
    "# average.acct.age i.e., average loan tenure\n",
    "\n",
    "# sns.countplot(loan_data['avg_tenure'].head(50), palette = 'colorblind')\n",
    "# plt.title('Average Loan Tenure')\n",
    "# plt.xticks(rotation = 45)"
   ]
  },
  {
   "cell_type": "code",
   "execution_count": null,
   "metadata": {},
   "outputs": [],
   "source": [
    "# checking the bureau score description\n",
    "\n",
    "plt.rcParams['figure.figsize'] = (19, 6)\n",
    "sns.countplot(loan_data['PERFORM_CNS.SCORE.DESCRIPTION'], palette = 'pastel')\n",
    "plt.title('Bureau Score Description', fontsize = 30)\n",
    "plt.xticks(rotation = 90)\n",
    "plt.show()\n"
   ]
  },
  {
   "cell_type": "code",
   "execution_count": null,
   "metadata": {},
   "outputs": [],
   "source": [
    "# loans defaulted in last six months\n",
    "\n",
    "loan_data['DELINQUENT.ACCTS.IN.LAST.SIX.MONTHS'].value_counts()"
   ]
  },
  {
   "cell_type": "code",
   "execution_count": null,
   "metadata": {},
   "outputs": [],
   "source": [
    "univariate(df=loan_data,col='DELINQUENT.ACCTS.IN.LAST.SIX.MONTHS',vartype=1)"
   ]
  },
  {
   "cell_type": "code",
   "execution_count": null,
   "metadata": {},
   "outputs": [],
   "source": [
    "univariate(df=loan_data,col='NEW.ACCTS.IN.LAST.SIX.MONTHS',vartype=1)"
   ]
  },
  {
   "cell_type": "code",
   "execution_count": null,
   "metadata": {},
   "outputs": [],
   "source": [
    "# checking the bureau score\n",
    "\n",
    "# plt.rcParams['figure.figsize'] = (15, 5)\n",
    "# plt.subplot(1, 2, 1)\n",
    "# sns.distplot(loan_data['PERFORM_CNS.SCORE'], color = 'purple')\n",
    "# plt.title('Before Log transformations')\n",
    "\n",
    "# plt.subplot(1, 2, 2)\n",
    "# loan_data['PERFORM_CNS.SCORE_log'] = np.log1p(loan_data['PERFORM_CNS.SCORE'])\n",
    "# sns.distplot(loan_data['PERFORM_CNS.SCORE_log'], color = 'maroon')\n",
    "# plt.title('After Log transformations')\n",
    "\n",
    "# plt.show()"
   ]
  },
  {
   "cell_type": "markdown",
   "metadata": {},
   "source": [
    "## Bivariate plots \n",
    "__relation of 2 features to the target(categorical type)__ Used to check correlation of the features."
   ]
  },
  {
   "cell_type": "code",
   "execution_count": null,
   "metadata": {},
   "outputs": [],
   "source": [
    "# sns.relplot(x=\"asset_cost\", y=\"disbursed_amount\", hue=\"loan_default\", data=loan_data)"
   ]
  },
  {
   "cell_type": "markdown",
   "metadata": {},
   "source": [
    "__Probably confirms removing val > 1lkh based on disbursed_amount and asset_cost distribution__"
   ]
  },
  {
   "cell_type": "code",
   "execution_count": null,
   "metadata": {},
   "outputs": [],
   "source": [
    "# sns.catplot(x=\"loan_default\", y=\"disbursed_amount\", data=loan_data)"
   ]
  },
  {
   "cell_type": "code",
   "execution_count": null,
   "metadata": {},
   "outputs": [],
   "source": [
    "plt.rcParams['figure.figsize'] = (19, 6)\n",
    "sns.relplot(data =loan_data, x='PRIMARY.INSTAL.AMT', y='disbursed_amount', hue ='loan_default')\n",
    "plt.title('EMI vs Disbursed Amount')\n",
    "plt.show()"
   ]
  },
  {
   "cell_type": "markdown",
   "metadata": {},
   "source": [
    "### Correlation Map"
   ]
  },
  {
   "cell_type": "code",
   "execution_count": null,
   "metadata": {},
   "outputs": [],
   "source": [
    "# loan_correlation = loan_data.corr()\n",
    "# loan_correlation"
   ]
  },
  {
   "cell_type": "code",
   "execution_count": null,
   "metadata": {},
   "outputs": [],
   "source": [
    "# f, ax = plt.subplots(figsize=(14, 9))\n",
    "# sns.heatmap(loan_correlation, \n",
    "#             xticklabels=loan_correlation.columns.values,\n",
    "#             yticklabels=loan_correlation.columns.values,annot= True)\n",
    "# plt.show()"
   ]
  },
  {
   "cell_type": "markdown",
   "metadata": {},
   "source": [
    "# Feature Engineering\n",
    "\n",
    "\n",
    "1. Convert PERFORM_CNS.SCORE.DESCRIPTION to buckets (1 == risk, 0 == no data)\n",
    "2. DisbursalDate to DisbursalMonth??\n",
    "3. Make buckets for branch_id, manufacturer_id, state_id"
   ]
  },
  {
   "cell_type": "markdown",
   "metadata": {},
   "source": [
    "### Bucket categorical var"
   ]
  },
  {
   "cell_type": "code",
   "execution_count": null,
   "metadata": {},
   "outputs": [],
   "source": [
    "# loan_data[['State_ID', 'loan_default']].groupby('State_ID','loan_default').sum()\n",
    "# def bucket(df):"
   ]
  },
  {
   "cell_type": "markdown",
   "metadata": {},
   "source": [
    "### Changing duration to number of months"
   ]
  },
  {
   "cell_type": "code",
   "execution_count": 128,
   "metadata": {},
   "outputs": [
    {
     "data": {
      "text/plain": [
       "0     0yrs 0mon\n",
       "1    1yrs 11mon\n",
       "2     0yrs 0mon\n",
       "3     0yrs 8mon\n",
       "4     0yrs 0mon\n",
       "Name: AVERAGE.ACCT.AGE, dtype: object"
      ]
     },
     "execution_count": 128,
     "metadata": {},
     "output_type": "execute_result"
    }
   ],
   "source": [
    "loan_data['AVERAGE.ACCT.AGE'].head()"
   ]
  },
  {
   "cell_type": "code",
   "execution_count": 129,
   "metadata": {},
   "outputs": [],
   "source": [
    "import re\n",
    "\n",
    "def pat1(x):\n",
    "    result = re.search('([0-9]*) [0-9]*', x)\n",
    "    return int(result.group(1))\n",
    "\n",
    "def pat2(x):\n",
    "    result = re.search('[0-9]* ([0-9]*)', x)\n",
    "    return int(result.group(1))\n",
    "    \n",
    "def change_to_months(loan_data):\n",
    "    loan_data['avg_tenure'] = loan_data['AVERAGE.ACCT.AGE'].str.replace(r'[a-zA-Z]*', '')\n",
    "    loan_data['cred_hist_len'] = loan_data['CREDIT.HISTORY.LENGTH'].str.replace(r'[a-zA-Z]*', '')\n",
    "    loan_data['avg_tenure'] = loan_data['avg_tenure'].apply(lambda x: pat1(x)*12 + pat2(x))\n",
    "    loan_data['cred_hist_len'] = loan_data['cred_hist_len'].apply(lambda x: pat1(x)*12 + pat2(x))\n",
    "    \n"
   ]
  },
  {
   "cell_type": "markdown",
   "metadata": {},
   "source": [
    "### Create age from DOB"
   ]
  },
  {
   "cell_type": "code",
   "execution_count": 130,
   "metadata": {},
   "outputs": [],
   "source": [
    "def change_to_age(loan_data):\n",
    "    now = pd.Timestamp('now')\n",
    "    loan_data['Date.of.Birth'] = pd.to_datetime(loan_data['Date.of.Birth'])\n",
    "    loan_data['Date.of.Birth'] = loan_data['Date.of.Birth'].where(loan_data['Date.of.Birth'] < now, loan_data['Date.of.Birth'] -  np.timedelta64(100, 'Y'))\n",
    "    loan_data['age'] = (now - loan_data['Date.of.Birth']).astype('<m8[Y]')"
   ]
  },
  {
   "cell_type": "markdown",
   "metadata": {},
   "source": [
    "### Convert employment type to numerical format"
   ]
  },
  {
   "cell_type": "code",
   "execution_count": 131,
   "metadata": {},
   "outputs": [],
   "source": [
    "def change_to_binary(loan_data):\n",
    "    # 1 - Salaried\n",
    "    # 0 - Self-employed\n",
    "    loan_data['Employment.Type'] = loan_data['Employment.Type'].map({'Salaried': 1, 'Self employed' : 0}, na_action='ignore')\n",
    "    loan_data['Employment.Type'].fillna(-1, inplace = True)"
   ]
  },
  {
   "cell_type": "markdown",
   "metadata": {},
   "source": [
    " ### Add na as unemployed"
   ]
  },
  {
   "cell_type": "code",
   "execution_count": 132,
   "metadata": {},
   "outputs": [],
   "source": [
    "\n",
    "def Na_unemplyed(loan_data):\n",
    "    loan_data['Employment.Type'].fillna('Unemployed', inplace = True)"
   ]
  },
  {
   "cell_type": "markdown",
   "metadata": {},
   "source": [
    "### Converting all flags to one feature"
   ]
  },
  {
   "cell_type": "code",
   "execution_count": 133,
   "metadata": {},
   "outputs": [],
   "source": [
    "def create_traceability(loan_data):\n",
    "    loan_data['traceability'] = (loan_data['MobileNo_Avl_Flag'] + loan_data['Aadhar_flag'] + loan_data['PAN_flag'] + loan_data['VoterID_flag'] + loan_data['Driving_flag'] + loan_data['Passport_flag']) / 6.0"
   ]
  },
  {
   "cell_type": "markdown",
   "metadata": {},
   "source": [
    "Should the flags be dropped? Test with model"
   ]
  },
  {
   "cell_type": "markdown",
   "metadata": {},
   "source": [
    "### Dropping entries of asset_cost > 100000"
   ]
  },
  {
   "cell_type": "code",
   "execution_count": 134,
   "metadata": {},
   "outputs": [],
   "source": [
    "def drop_asset_cost_outliers(df):\n",
    "    df = df.drop(df[df['disbursed_amount'] > 100000].index)"
   ]
  },
  {
   "cell_type": "markdown",
   "metadata": {},
   "source": [
    "### Call functions on datasets"
   ]
  },
  {
   "cell_type": "code",
   "execution_count": 157,
   "metadata": {},
   "outputs": [],
   "source": [
    "test = pd.read_csv('../Hackathon/Data/test.csv')\n",
    "# test =  pd.read_csv('../input/test_bqCt9Pv.csv')\n",
    "\n",
    "change_to_months(loan_data)\n",
    "change_to_age(loan_data)\n",
    "change_to_binary(loan_data)\n",
    "create_traceability(loan_data)\n",
    "drop_asset_cost_outliers(loan_data)\n",
    "\n",
    "change_to_months(test)\n",
    "change_to_age(test)\n",
    "change_to_binary(test)\n",
    "create_traceability(test)\n"
   ]
  },
  {
   "cell_type": "code",
   "execution_count": 158,
   "metadata": {},
   "outputs": [
    {
     "data": {
      "text/plain": [
       " 0.0    127635\n",
       " 1.0     97858\n",
       "-1.0      7661\n",
       "Name: Employment.Type, dtype: int64"
      ]
     },
     "execution_count": 158,
     "metadata": {},
     "output_type": "execute_result"
    }
   ],
   "source": [
    "loan_data['Employment.Type'].value_counts()\n",
    "# univariate(df=loan_data, col='traceability', vartype=1, hue='loan_default')"
   ]
  },
  {
   "cell_type": "markdown",
   "metadata": {},
   "source": [
    "# Model fitting"
   ]
  },
  {
   "cell_type": "code",
   "execution_count": 159,
   "metadata": {},
   "outputs": [],
   "source": [
    "# from sklearn.model_selection import train_test_split\n",
    "# from sklearn.preprocessing import StandardScaler\n",
    "# from sklearn.linear_model import LogisticRegression\n",
    "# from sklearn.ensemble import RandomForestClassifier\n",
    "# from sklearn.linear_model import RidgeClassifier\n",
    "# from sklearn.model_selection import cross_val_score, cross_val_predict\n",
    "# # from sklearn import metrics, cross_validation\n",
    "# from sklearn.svm import SVC\n",
    "# from xgboost import XGBClassifier\n",
    "# from sklearn.model_selection import GridSearchCV\n",
    "# from sklearn.model_selection import StratifiedKFold\n",
    "# from sklearn.metrics import accuracy_score"
   ]
  },
  {
   "cell_type": "code",
   "execution_count": 160,
   "metadata": {},
   "outputs": [],
   "source": [
    "df_model = loan_data.copy(deep=True)\n",
    "df_test_model = test.copy(deep=True)"
   ]
  },
  {
   "cell_type": "code",
   "execution_count": 161,
   "metadata": {},
   "outputs": [],
   "source": [
    "df_model.drop([\n",
    "    'UniqueID',\n",
    "    'branch_id',\n",
    "    'supplier_id',\n",
    "    'manufacturer_id',\n",
    "    'Current_pincode_ID',\n",
    "    'VoterID_flag',\n",
    "    'Aadhar_flag',\n",
    "    'MobileNo_Avl_Flag',\n",
    "    'PAN_flag',\n",
    "    'VoterID_flag',\n",
    "    'Driving_flag',\n",
    "    'Passport_flag',\n",
    "    'Date.of.Birth',\n",
    "    'AVERAGE.ACCT.AGE',\n",
    "    'CREDIT.HISTORY.LENGTH',\n",
    "    'PERFORM_CNS.SCORE.DESCRIPTION',\n",
    "    'Employee_code_ID',\n",
    "    'State_ID',\n",
    "    'DisbursalDate'\n",
    "], axis=1, inplace=True)\n",
    "\n",
    "df_test_model.drop([\n",
    "    'UniqueID',\n",
    "    'branch_id',\n",
    "    'supplier_id',\n",
    "    'manufacturer_id',\n",
    "    'Current_pincode_ID',\n",
    "    'VoterID_flag',\n",
    "    'Aadhar_flag',\n",
    "    'MobileNo_Avl_Flag',\n",
    "    'PAN_flag',\n",
    "    'VoterID_flag',\n",
    "    'Driving_flag',\n",
    "    'Passport_flag',\n",
    "    'Date.of.Birth',\n",
    "    'AVERAGE.ACCT.AGE',\n",
    "    'CREDIT.HISTORY.LENGTH',\n",
    "    'PERFORM_CNS.SCORE.DESCRIPTION',\n",
    "    'Employee_code_ID',\n",
    "    'State_ID',\n",
    "    'DisbursalDate'\n",
    "], axis=1, inplace=True)\n"
   ]
  },
  {
   "cell_type": "code",
   "execution_count": 162,
   "metadata": {},
   "outputs": [
    {
     "data": {
      "text/plain": [
       "(233154, 27)"
      ]
     },
     "execution_count": 162,
     "metadata": {},
     "output_type": "execute_result"
    }
   ],
   "source": [
    "df_model.rename(index=str, columns={\"loan_default\": \"Target\"}, inplace=True)\n",
    "df_model.shape\n"
   ]
  },
  {
   "cell_type": "markdown",
   "metadata": {},
   "source": [
    "### Balancing - Smote "
   ]
  },
  {
   "cell_type": "code",
   "execution_count": 163,
   "metadata": {},
   "outputs": [],
   "source": [
    "# applying SMOTE\n",
    "\n",
    "from imblearn.over_sampling import SMOTE\n",
    "\n",
    "x_resample, y_resample = SMOTE().fit_sample(df_model.drop('Target',axis=1),df_model['Target'].values.ravel()) \n",
    "\n",
    "# checking the shape of x_resample and y_resample\n",
    "print(\"Shape of x:\", x_resample.shape)\n",
    "print(\"Shape of y:\", y_resample.shape)"
   ]
  },
  {
   "cell_type": "markdown",
   "metadata": {},
   "source": [
    "### Splitting the dataset"
   ]
  },
  {
   "cell_type": "code",
   "execution_count": 164,
   "metadata": {},
   "outputs": [
    {
     "name": "stdout",
     "output_type": "stream",
     "text": [
      "(186523, 26)\n",
      "(186523,)\n",
      "(46631, 26)\n",
      "(46631,)\n",
      "test_set (112392, 26)\n"
     ]
    }
   ],
   "source": [
    "# train and valid sets from train\n",
    "from sklearn.model_selection import train_test_split\n",
    "\n",
    "X_train, X_test, y_train, y_test = train_test_split(x_resample, y_resample, test_size = 0.2, stratify=y_resample, random_state = 0)\n",
    "# X_train, X_test, y_train, y_test = train_test_split(df_model.drop('Target',axis=1),df_model['Target'],test_size=0.20, stratify=df_model['Target'], random_state=0)\n",
    "# checking the shapes\n",
    "print(X_train.shape)\n",
    "print(y_train.shape)\n",
    "print(X_test.shape)\n",
    "print(y_test.shape)\n",
    "print('test_set', df_test_model.shape)"
   ]
  },
  {
   "cell_type": "markdown",
   "metadata": {},
   "source": [
    "### Balancing the training dataset as 50-50"
   ]
  },
  {
   "cell_type": "code",
   "execution_count": 165,
   "metadata": {},
   "outputs": [],
   "source": [
    "# np_y_train = y_train.values\n",
    "# np_X_train = X_train.values\n",
    "# total_num_of_ones = int(np.sum(y_train))\n",
    "# # print(total_num_of_ones)\n",
    "# zero_counter = 0\n",
    "# indices_to_remove = []\n",
    "\n",
    "# for i in range(np_y_train.shape[0]):\n",
    "#     if np_y_train[i] == 0:\n",
    "#         if zero_counter < total_num_of_ones:\n",
    "#             zero_counter += 1\n",
    "#         else:\n",
    "#             indices_to_remove.append(i)\n",
    "\n",
    "# X_train = np.delete(np_X_train, indices_to_remove, axis=0)\n",
    "# y_train = np.delete(np_y_train, indices_to_remove, axis=0)"
   ]
  },
  {
   "cell_type": "code",
   "execution_count": 166,
   "metadata": {},
   "outputs": [
    {
     "name": "stderr",
     "output_type": "stream",
     "text": [
      "/home/ajinkya/.virtualenvs/ml/lib/python3.5/site-packages/ipykernel_launcher.py:9: DataConversionWarning: Data with input dtype int64, float64 were all converted to float64 by StandardScaler.\n",
      "  if __name__ == '__main__':\n",
      "/home/ajinkya/.virtualenvs/ml/lib/python3.5/site-packages/ipykernel_launcher.py:10: DataConversionWarning: Data with input dtype int64, float64 were all converted to float64 by StandardScaler.\n",
      "  # Remove the CWD from sys.path while we load stuff.\n"
     ]
    }
   ],
   "source": [
    "# applying standardization\n",
    "\n",
    "# standardization\n",
    "\n",
    "from sklearn.preprocessing import StandardScaler\n",
    "\n",
    "sc = StandardScaler()\n",
    "X_train = sc.fit_transform(X_train)\n",
    "X_test = sc.transform(X_test)\n",
    "test_set = sc.transform(df_test_model)"
   ]
  },
  {
   "cell_type": "code",
   "execution_count": 167,
   "metadata": {},
   "outputs": [],
   "source": [
    "from sklearn.metrics import confusion_matrix\n",
    "from sklearn.metrics import classification_report\n",
    "from sklearn.metrics import average_precision_score\n",
    "from sklearn.model_selection import StratifiedKFold\n",
    "from sklearn.metrics import accuracy_score"
   ]
  },
  {
   "cell_type": "code",
   "execution_count": 93,
   "metadata": {},
   "outputs": [
    {
     "name": "stderr",
     "output_type": "stream",
     "text": [
      "/home/ajinkya/.virtualenvs/ml/lib/python3.5/site-packages/sklearn/ensemble/forest.py:246: FutureWarning: The default value of n_estimators will change from 10 in version 0.20 to 100 in 0.22.\n",
      "  \"10 in version 0.20 to 100 in 0.22.\", FutureWarning)\n"
     ]
    },
    {
     "name": "stdout",
     "output_type": "stream",
     "text": [
      "Training Accuracy:  0.9815134974931463\n",
      "Testing Accuarcy:  0.5990649996783256\n",
      "              precision    recall  f1-score   support\n",
      "\n",
      "           0       0.81      0.64      0.71     36509\n",
      "           1       0.26      0.46      0.33     10122\n",
      "\n",
      "   micro avg       0.60      0.60      0.60     46631\n",
      "   macro avg       0.54      0.55      0.52     46631\n",
      "weighted avg       0.69      0.60      0.63     46631\n",
      "\n"
     ]
    },
    {
     "data": {
      "text/plain": [
       "<matplotlib.axes._subplots.AxesSubplot at 0x7fb1a46bf320>"
      ]
     },
     "execution_count": 93,
     "metadata": {},
     "output_type": "execute_result"
    },
    {
     "data": {
      "image/png": "[encoded data removed]",
      "text/plain": [
       "<Figure size 432x288 with 2 Axes>"
      ]
     },
     "metadata": {
      "needs_background": "light"
     },
     "output_type": "display_data"
    }
   ],
   "source": [
    "# RANDOM FOREST CLASSIFIER\n",
    "\n",
    "from sklearn.ensemble import RandomForestClassifier\n",
    "\n",
    "model_rf = RandomForestClassifier()\n",
    "model_rf.fit(X_train, y_train)\n",
    "\n",
    "y_pred = model_rf.predict(X_test)\n",
    "\n",
    "print(\"Training Accuracy: \", model_rf.score(X_train, y_train))\n",
    "print('Testing Accuarcy: ', model_rf.score(X_test, y_test))\n",
    "\n",
    "# making a classification report\n",
    "cr = classification_report(y_test,  y_pred)\n",
    "print(cr)\n",
    "\n",
    "# making a confusion matrix\n",
    "cm = confusion_matrix(y_test, y_pred)\n",
    "sns.heatmap(cm, annot = True)\n",
    "\n"
   ]
  },
  {
   "cell_type": "code",
   "execution_count": 94,
   "metadata": {},
   "outputs": [
    {
     "name": "stdout",
     "output_type": "stream",
     "text": [
      "Average Precision Score : 0.23732596310192883\n"
     ]
    }
   ],
   "source": [
    "# getting the avg precision score\n",
    "apc = average_precision_score(y_test, y_pred)\n",
    "print('Average Precision Score :', apc)"
   ]
  },
  {
   "cell_type": "code",
   "execution_count": 168,
   "metadata": {},
   "outputs": [
    {
     "name": "stdout",
     "output_type": "stream",
     "text": [
      "\n",
      "0 of kfold 10\n"
     ]
    },
    {
     "name": "stderr",
     "output_type": "stream",
     "text": [
      "/home/ajinkya/.virtualenvs/ml/lib/python3.5/site-packages/sklearn/utils/validation.py:761: DataConversionWarning: A column-vector y was passed when a 1d array was expected. Please change the shape of y to (n_samples, ), for example using ravel().\n",
      "  y = column_or_1d(y, warn=True)\n"
     ]
    },
    {
     "name": "stdout",
     "output_type": "stream",
     "text": [
      "accuracy_score 0.5927389478883675\n",
      "\n",
      "1 of kfold 10\n"
     ]
    },
    {
     "name": "stderr",
     "output_type": "stream",
     "text": [
      "/home/ajinkya/.virtualenvs/ml/lib/python3.5/site-packages/sklearn/utils/validation.py:761: DataConversionWarning: A column-vector y was passed when a 1d array was expected. Please change the shape of y to (n_samples, ), for example using ravel().\n",
      "  y = column_or_1d(y, warn=True)\n"
     ]
    },
    {
     "name": "stdout",
     "output_type": "stream",
     "text": [
      "accuracy_score 0.6006421338602124\n",
      "\n",
      "2 of kfold 10\n"
     ]
    },
    {
     "name": "stderr",
     "output_type": "stream",
     "text": [
      "/home/ajinkya/.virtualenvs/ml/lib/python3.5/site-packages/sklearn/utils/validation.py:761: DataConversionWarning: A column-vector y was passed when a 1d array was expected. Please change the shape of y to (n_samples, ), for example using ravel().\n",
      "  y = column_or_1d(y, warn=True)\n"
     ]
    },
    {
     "name": "stdout",
     "output_type": "stream",
     "text": [
      "accuracy_score 0.5900222277105458\n",
      "\n",
      "3 of kfold 10\n"
     ]
    },
    {
     "name": "stderr",
     "output_type": "stream",
     "text": [
      "/home/ajinkya/.virtualenvs/ml/lib/python3.5/site-packages/sklearn/utils/validation.py:761: DataConversionWarning: A column-vector y was passed when a 1d array was expected. Please change the shape of y to (n_samples, ), for example using ravel().\n",
      "  y = column_or_1d(y, warn=True)\n"
     ]
    },
    {
     "name": "stdout",
     "output_type": "stream",
     "text": [
      "accuracy_score 0.5866880711286737\n",
      "\n",
      "4 of kfold 10\n"
     ]
    },
    {
     "name": "stderr",
     "output_type": "stream",
     "text": [
      "/home/ajinkya/.virtualenvs/ml/lib/python3.5/site-packages/sklearn/utils/validation.py:761: DataConversionWarning: A column-vector y was passed when a 1d array was expected. Please change the shape of y to (n_samples, ), for example using ravel().\n",
      "  y = column_or_1d(y, warn=True)\n"
     ]
    },
    {
     "name": "stdout",
     "output_type": "stream",
     "text": [
      "accuracy_score 0.5863176092862435\n",
      "\n",
      "5 of kfold 10\n"
     ]
    },
    {
     "name": "stderr",
     "output_type": "stream",
     "text": [
      "/home/ajinkya/.virtualenvs/ml/lib/python3.5/site-packages/sklearn/utils/validation.py:761: DataConversionWarning: A column-vector y was passed when a 1d array was expected. Please change the shape of y to (n_samples, ), for example using ravel().\n",
      "  y = column_or_1d(y, warn=True)\n"
     ]
    },
    {
     "name": "stdout",
     "output_type": "stream",
     "text": [
      "accuracy_score 0.5940973079772783\n",
      "\n",
      "6 of kfold 10\n"
     ]
    },
    {
     "name": "stderr",
     "output_type": "stream",
     "text": [
      "/home/ajinkya/.virtualenvs/ml/lib/python3.5/site-packages/sklearn/utils/validation.py:761: DataConversionWarning: A column-vector y was passed when a 1d array was expected. Please change the shape of y to (n_samples, ), for example using ravel().\n",
      "  y = column_or_1d(y, warn=True)\n"
     ]
    },
    {
     "name": "stdout",
     "output_type": "stream",
     "text": [
      "accuracy_score 0.5913805877994567\n",
      "\n",
      "7 of kfold 10\n"
     ]
    },
    {
     "name": "stderr",
     "output_type": "stream",
     "text": [
      "/home/ajinkya/.virtualenvs/ml/lib/python3.5/site-packages/sklearn/utils/validation.py:761: DataConversionWarning: A column-vector y was passed when a 1d array was expected. Please change the shape of y to (n_samples, ), for example using ravel().\n",
      "  y = column_or_1d(y, warn=True)\n"
     ]
    },
    {
     "name": "stdout",
     "output_type": "stream",
     "text": [
      "accuracy_score 0.5959496171894295\n",
      "\n",
      "8 of kfold 10\n"
     ]
    },
    {
     "name": "stderr",
     "output_type": "stream",
     "text": [
      "/home/ajinkya/.virtualenvs/ml/lib/python3.5/site-packages/sklearn/utils/validation.py:761: DataConversionWarning: A column-vector y was passed when a 1d array was expected. Please change the shape of y to (n_samples, ), for example using ravel().\n",
      "  y = column_or_1d(y, warn=True)\n"
     ]
    },
    {
     "name": "stdout",
     "output_type": "stream",
     "text": [
      "accuracy_score 0.5901457149913559\n",
      "\n",
      "9 of kfold 10\n"
     ]
    },
    {
     "name": "stderr",
     "output_type": "stream",
     "text": [
      "/home/ajinkya/.virtualenvs/ml/lib/python3.5/site-packages/sklearn/utils/validation.py:761: DataConversionWarning: A column-vector y was passed when a 1d array was expected. Please change the shape of y to (n_samples, ), for example using ravel().\n",
      "  y = column_or_1d(y, warn=True)\n"
     ]
    },
    {
     "name": "stdout",
     "output_type": "stream",
     "text": [
      "accuracy_score 0.5920207509881423\n",
      "Training Accuracy:  0.5948529230161278\n",
      "Testing Accuarcy:  0.5604640689669962\n",
      "              precision    recall  f1-score   support\n",
      "\n",
      "           0       0.85      0.54      0.66     36509\n",
      "           1       0.28      0.65      0.39     10122\n",
      "\n",
      "   micro avg       0.56      0.56      0.56     46631\n",
      "   macro avg       0.56      0.59      0.52     46631\n",
      "weighted avg       0.72      0.56      0.60     46631\n",
      "\n"
     ]
    },
    {
     "data": {
      "text/plain": [
       "<matplotlib.axes._subplots.AxesSubplot at 0x7fb19d7ba240>"
      ]
     },
     "execution_count": 168,
     "metadata": {},
     "output_type": "execute_result"
    },
    {
     "data": {
      "image/png": "[encoded data removed]",
      "text/plain": [
       "<Figure size 432x288 with 2 Axes>"
      ]
     },
     "metadata": {
      "needs_background": "light"
     },
     "output_type": "display_data"
    }
   ],
   "source": [
    "# ADA BOOST CLASSIFIER\n",
    "\n",
    "from sklearn.ensemble import AdaBoostClassifier\n",
    "\n",
    "model_ada = AdaBoostClassifier()\n",
    "x_index = [x for x in range(len(X_train))]\n",
    "y_index = [x for x in range(len(y_train))]\n",
    "\n",
    "X_train_ada = pd.DataFrame(data=X_train, index=x_index)\n",
    "y_train_ada = pd.DataFrame(data=y_train, index=y_index)\n",
    "\n",
    "i = 1\n",
    "kf = StratifiedKFold(n_splits=10,random_state=1,shuffle=True)\n",
    "for train_index,test_index in kf.split(X_train_ada,y_train_ada):\n",
    "    print('\\n{} of kfold {}'.format(i,kf.n_splits))\n",
    "    xtr,xvl = X_train_ada.loc[train_index], X_train_ada.loc[test_index]\n",
    "    ytr,yvl = y_train_ada.loc[train_index], y_train_ada.loc[test_index]\n",
    "    model_ada.fit(xtr, ytr)\n",
    "    pred=model_ada.predict(xvl)\n",
    "    print('accuracy_score',accuracy_score(yvl,pred))\n",
    "    i+=1\n",
    "\n",
    "y_pred = model_ada.predict(X_test)\n",
    "\n",
    "print(\"Training Accuracy: \", model_ada.score(X_train, y_train))\n",
    "print('Testing Accuarcy: ', model_ada.score(X_test, y_test))\n",
    "\n",
    "# making a classification report\n",
    "cr = classification_report(y_test,  y_pred)\n",
    "print(cr)\n",
    "\n",
    "# making a confusion matrix\n",
    "cm = confusion_matrix(y_test, y_pred)\n",
    "sns.heatmap(cm, annot = True)"
   ]
  },
  {
   "cell_type": "code",
   "execution_count": 169,
   "metadata": {},
   "outputs": [
    {
     "name": "stdout",
     "output_type": "stream",
     "text": [
      "Average Precision Score : 0.257146266958851\n"
     ]
    }
   ],
   "source": [
    "apc = average_precision_score(y_test, y_pred)\n",
    "print('Average Precision Score :', apc)"
   ]
  },
  {
   "cell_type": "code",
   "execution_count": 38,
   "metadata": {},
   "outputs": [
    {
     "name": "stdout",
     "output_type": "stream",
     "text": [
      "Training Accuracy:  0.7926818412150595\n",
      "Testing Accuarcy:  0.7890383193185242\n",
      "              precision    recall  f1-score   support\n",
      "\n",
      "           0       0.71      0.98      0.82     36647\n",
      "           1       0.96      0.60      0.74     36371\n",
      "\n",
      "   micro avg       0.79      0.79      0.79     73018\n",
      "   macro avg       0.84      0.79      0.78     73018\n",
      "weighted avg       0.84      0.79      0.78     73018\n",
      "\n"
     ]
    },
    {
     "data": {
      "text/plain": [
       "<matplotlib.axes._subplots.AxesSubplot at 0x7fb1a460be48>"
      ]
     },
     "execution_count": 38,
     "metadata": {},
     "output_type": "execute_result"
    },
    {
     "data": {
      "image/png": "[encoded data removed]",
      "text/plain": [
       "<Figure size 432x288 with 2 Axes>"
      ]
     },
     "metadata": {
      "needs_background": "light"
     },
     "output_type": "display_data"
    }
   ],
   "source": [
    "# Xg-Boost Classifier\n",
    "\n",
    "from xgboost.sklearn import XGBClassifier\n",
    "from sklearn.metrics import confusion_matrix\n",
    "from sklearn.metrics import classification_report\n",
    "\n",
    "model_xgb = XGBClassifier()\n",
    "model_xgb.fit(X_train, y_train)\n",
    "\n",
    "y_pred = model_xgb.predict(X_test)\n",
    "\n",
    "print(\"Training Accuracy: \", model_xgb.score(X_train, y_train))\n",
    "print('Testing Accuarcy: ', model_xgb.score(X_test, y_test))\n",
    "\n",
    "# making a classification report\n",
    "cr = classification_report(y_test,  y_pred)\n",
    "print(cr)\n",
    "\n",
    "# making a confusion matrix\n",
    "cm = confusion_matrix(y_test, y_pred)\n",
    "sns.heatmap(cm, annot = True)"
   ]
  },
  {
   "cell_type": "code",
   "execution_count": 39,
   "metadata": {},
   "outputs": [
    {
     "name": "stdout",
     "output_type": "stream",
     "text": [
      "Average Precision Score : 0.7765207895878448\n"
     ]
    }
   ],
   "source": [
    "apc = average_precision_score(y_test, y_pred)\n",
    "print('Average Precision Score :', apc)"
   ]
  },
  {
   "cell_type": "code",
   "execution_count": 40,
   "metadata": {},
   "outputs": [
    {
     "name": "stdout",
     "output_type": "stream",
     "text": [
      "Training Accuracy:  0.8542496952764425\n",
      "Testing Accuarcy:  0.8520227889013667\n",
      "              precision    recall  f1-score   support\n",
      "\n",
      "           0       0.77      1.00      0.87     36647\n",
      "           1       1.00      0.70      0.83     36371\n",
      "\n",
      "   micro avg       0.85      0.85      0.85     73018\n",
      "   macro avg       0.89      0.85      0.85     73018\n",
      "weighted avg       0.89      0.85      0.85     73018\n",
      "\n"
     ]
    },
    {
     "data": {
      "text/plain": [
       "<matplotlib.axes._subplots.AxesSubplot at 0x7fb1a383f278>"
      ]
     },
     "execution_count": 40,
     "metadata": {},
     "output_type": "execute_result"
    },
    {
     "data": {
      "image/png": "[encoded data removed]",
      "text/plain": [
       "<Figure size 432x288 with 2 Axes>"
      ]
     },
     "metadata": {
      "needs_background": "light"
     },
     "output_type": "display_data"
    }
   ],
   "source": [
    "# light boost classifier\n",
    "\n",
    "from lightgbm import LGBMClassifier\n",
    "\n",
    "model_lgb = LGBMClassifier()\n",
    "model_lgb.fit(X_train, y_train)\n",
    "\n",
    "y_pred = model_lgb.predict(X_test)\n",
    "\n",
    "print(\"Training Accuracy: \", model_lgb.score(X_train, y_train))\n",
    "print('Testing Accuarcy: ', model_lgb.score(X_test, y_test))\n",
    "\n",
    "# making a classification report\n",
    "cr = classification_report(y_test,  y_pred)\n",
    "print(cr)\n",
    "\n",
    "# making a confusion matrix\n",
    "cm = confusion_matrix(y_test, y_pred)\n",
    "sns.heatmap(cm, annot = True)"
   ]
  },
  {
   "cell_type": "code",
   "execution_count": 41,
   "metadata": {},
   "outputs": [],
   "source": [
    "# apc = average_precision_score(y_test, y_pred)\n",
    "# print('Average Precision Score :', apc)"
   ]
  },
  {
   "cell_type": "code",
   "execution_count": 42,
   "metadata": {},
   "outputs": [
    {
     "data": {
      "text/plain": [
       "<matplotlib.axes._subplots.AxesSubplot at 0x7fb1a3a1ac88>"
      ]
     },
     "execution_count": 42,
     "metadata": {},
     "output_type": "execute_result"
    },
    {
     "data": {
      "image/png": "[encoded data removed]",
      "text/plain": [
       "<Figure size 360x1080 with 1 Axes>"
      ]
     },
     "metadata": {
      "needs_background": "light"
     },
     "output_type": "display_data"
    }
   ],
   "source": [
    "# let's plot the feature importance plot for the lg boost model\n",
    "\n",
    "feature = pd.DataFrame()\n",
    "x_train = pd.DataFrame(X_train)\n",
    "\n",
    "feature['name'] = df_model.drop('Target',axis=1).columns\n",
    "feature['importance'] = model_lgb.feature_importances_\n",
    "\n",
    "feature.sort_values(by = ['importance'], ascending = True, inplace = True)\n",
    "feature.set_index('name', inplace = True)\n",
    "\n",
    "feature.plot(kind = 'barh', color = 'purple', figsize = (5, 15), fontsize = 10)"
   ]
  },
  {
   "cell_type": "markdown",
   "metadata": {},
   "source": [
    "# Predict on test dataset"
   ]
  },
  {
   "cell_type": "code",
   "execution_count": 170,
   "metadata": {},
   "outputs": [],
   "source": [
    "# let's predict for the tests set\n",
    "\n",
    "y_pred_rf = model_rf.predict(test_set)\n",
    "y_pred_ada = model_ada.predict(test_set)\n",
    "y_pred_xgb = model_xgb.predict(test_set)\n",
    "y_pred_lgb = model_lgb.predict(test_set)"
   ]
  },
  {
   "cell_type": "code",
   "execution_count": 171,
   "metadata": {},
   "outputs": [
    {
     "name": "stdout",
     "output_type": "stream",
     "text": [
      "1    60630\n",
      "0    51762\n",
      "dtype: int64\n"
     ]
    }
   ],
   "source": [
    "print(pd.Series(y_pred_rf).value_counts())\n",
    "print(pd.Series(y_pred_ada).value_counts())\n",
    "print(pd.Series(y_pred_xgb).value_counts())\n",
    "print(pd.Series(y_pred_lgb).value_counts())"
   ]
  },
  {
   "cell_type": "markdown",
   "metadata": {},
   "source": [
    "### Submission file"
   ]
  },
  {
   "cell_type": "code",
   "execution_count": 172,
   "metadata": {},
   "outputs": [
    {
     "data": {
      "text/html": [
       "<div>\n",
       "<style scoped>\n",
       "    .dataframe tbody tr th:only-of-type {\n",
       "        vertical-align: middle;\n",
       "    }\n",
       "\n",
       "    .dataframe tbody tr th {\n",
       "        vertical-align: top;\n",
       "    }\n",
       "\n",
       "    .dataframe thead th {\n",
       "        text-align: right;\n",
       "    }\n",
       "</style>\n",
       "<table border=\"1\" class=\"dataframe\">\n",
       "  <thead>\n",
       "    <tr style=\"text-align: right;\">\n",
       "      <th></th>\n",
       "      <th>UniqueID</th>\n",
       "      <th>loan_default</th>\n",
       "    </tr>\n",
       "  </thead>\n",
       "  <tbody>\n",
       "    <tr>\n",
       "      <th>0</th>\n",
       "      <td>655269</td>\n",
       "      <td>1</td>\n",
       "    </tr>\n",
       "    <tr>\n",
       "      <th>1</th>\n",
       "      <td>723482</td>\n",
       "      <td>1</td>\n",
       "    </tr>\n",
       "    <tr>\n",
       "      <th>2</th>\n",
       "      <td>758529</td>\n",
       "      <td>1</td>\n",
       "    </tr>\n",
       "    <tr>\n",
       "      <th>3</th>\n",
       "      <td>763449</td>\n",
       "      <td>0</td>\n",
       "    </tr>\n",
       "    <tr>\n",
       "      <th>4</th>\n",
       "      <td>708663</td>\n",
       "      <td>1</td>\n",
       "    </tr>\n",
       "  </tbody>\n",
       "</table>\n",
       "</div>"
      ],
      "text/plain": [
       "   UniqueID  loan_default\n",
       "0    655269             1\n",
       "1    723482             1\n",
       "2    758529             1\n",
       "3    763449             0\n",
       "4    708663             1"
      ]
     },
     "execution_count": 172,
     "metadata": {},
     "output_type": "execute_result"
    }
   ],
   "source": [
    "#  let's create a submission file\n",
    "\n",
    "#Create a  DataFrame with the passengers ids and our prediction regarding whether they survived or not\n",
    "submission = pd.DataFrame({'UniqueID': test['UniqueID'],'loan_default': y_pred_ada})\n",
    "\n",
    "#Visualize the first 5 rows\n",
    "submission.head()"
   ]
  },
  {
   "cell_type": "code",
   "execution_count": 173,
   "metadata": {},
   "outputs": [
    {
     "name": "stdout",
     "output_type": "stream",
     "text": [
      "Saved file: ./submission.csv\n"
     ]
    }
   ],
   "source": [
    "#Convert DataFrame to a csv file that can be uploaded\n",
    "#This is saved in the same directory as your notebook\n",
    "filename = './submission.csv'\n",
    "\n",
    "submission.to_csv(filename,index=False)\n",
    "\n",
    "print('Saved file: ' + filename)"
   ]
  },
  {
   "cell_type": "code",
   "execution_count": null,
   "metadata": {},
   "outputs": [],
   "source": [
    "# def find_rmse(reg): \n",
    "#     #   Train test split  \n",
    "# #     X_train, X_test, y_train, y_test = train_test_split(df_model.drop('Target',axis=1),df_model['Target'],test_size=0.20, stratify=y, random_state=154)\n",
    "#     X_train = df_model.drop('Target', axis=1)\n",
    "#     y_train = df_model['Target']\n",
    "#     X_test = df_test_model.copy(deep=True)\n",
    "#     X_train.index = X_train.index.astype('int64')\n",
    "#     y_train.index = y_train.index.astype('int64')\n",
    "#     X_test.index = X_test.index.astype('int64')\n",
    "#     # Balancing the dataset\n",
    "    \n",
    "# #     np_y_train = y_train.values\n",
    "# #     np_X_train = X_train.values\n",
    "# #     total_num_of_ones = int(np.sum(y_train))\n",
    "# #     # print(total_num_of_ones)\n",
    "# #     zero_counter = 0\n",
    "# #     indices_to_remove = []\n",
    "\n",
    "# #     for i in range(np_y_train.shape[0]):\n",
    "# #         if np_y_train[i] == 0:\n",
    "# #             if zero_counter < total_num_of_ones:\n",
    "# #                 zero_counter += 1\n",
    "# #             else:\n",
    "# #                 indices_to_remove.append(i)\n",
    "\n",
    "# #     X_train = np.delete(np_X_train, indices_to_remove, axis=0)\n",
    "# #     y_train = np.delete(np_y_train, indices_to_remove, axis=0)\n",
    "\n",
    "# #     print(len(X_train))\n",
    "# #     print(len(y_train))\n",
    "    \n",
    "#     # Normalising the dataset     \n",
    "# #     sc = StandardScaler()\n",
    "# #     X_train = sc.fit_transform(X_train)\n",
    "# #     X_test=sc.transform(X_test)\n",
    "    \n",
    "# #     # Fit the model\n",
    "# #     reg.fit(X_train, y_train)\n",
    "    \n",
    "# #     res = cross_val_score(reg, X_train, y_train, cv=10, scoring='accuracy')\n",
    "# #     print(\"Average Accuracy: \\t {0:.4f}\".format(np.mean(res)))\n",
    "    \n",
    "# #     y_out = reg.predict(X_test)\n",
    "# # #     print(len(y_out))\n",
    "\n",
    "#     # Implementing XGBoost and stratified k-fold\n",
    "    \n",
    "#     # Converting X_train and y_train to a DF\n",
    "# #     X_train = pd.DataFrame(X_train)\n",
    "# #     y_train = pd.DataFrame(y_train)\n",
    "    \n",
    "#     param_grid = [{'min_child_weight': np.arange(0.1, 10.1, 0.1)}]\n",
    "#     i=1\n",
    "#     kf = StratifiedKFold(n_splits=10,random_state=1,shuffle=True)\n",
    "#     for train_index,test_index in kf.split(X_train,y_train):\n",
    "#         print('\\n{} of kfold {}'.format(i,kf.n_splits))\n",
    "#         xtr,xvl = X_train.loc[train_index],X_train.loc[test_index]\n",
    "#         ytr,yvl = y_train[train_index],y_train[test_index]\n",
    "#         model = GridSearchCV(XGBClassifier(n_estimators=10, n_jobs=4), param_grid, cv=10, scoring= 'f1',iid=True)\n",
    "#         model.fit(xtr, ytr)\n",
    "#         print (model.best_params_)\n",
    "#         pred=model.predict(X_test)\n",
    "#         print('accuracy_score',accuracy_score(yvl,pred))\n",
    "#         i+=1\n",
    "    \n",
    "#     y_out = predict(X_test)\n",
    "#     op_df = pd.DataFrame({'UniqueID': test['UniqueID'], 'loan_default': y_out})\n",
    "#     print(op_df['loan_default'].value_counts())\n",
    "#     op_df.to_csv(path_or_buf='./rand_for.csv', index=False, index_label='UniqueID')\n",
    "# #     print('Accuracy score: ')\n",
    "# #     print(reg.score(X_test, y_test))\n",
    "\n",
    "# #     error = np.sqrt(mean_squared_error(y_test, y_out))\n",
    "                                \n",
    "# #     print(str(error)+ repr(reg)[0:4]) #using repr to get initials of the name of the classifier that this run used"
   ]
  },
  {
   "cell_type": "code",
   "execution_count": null,
   "metadata": {},
   "outputs": [],
   "source": [
    "# from multiprocessing import Pool\n",
    "\n",
    "# #Add imported classes of classification models to be used.\n",
    "# regressors_list = [LogisticRegression(), RandomForestClassifier()] \n",
    "# pool = Pool(1)\n",
    "# pool.map(find_rmse,regressors_list)\n",
    "# pool.close()\n",
    "# pool.join()"
   ]
  },
  {
   "cell_type": "code",
   "execution_count": null,
   "metadata": {},
   "outputs": [],
   "source": []
  },
  {
   "cell_type": "code",
   "execution_count": null,
   "metadata": {},
   "outputs": [],
   "source": []
  },
  {
   "cell_type": "code",
   "execution_count": null,
   "metadata": {},
   "outputs": [],
   "source": []
  }
 ],
 "metadata": {
  "kernelspec": {
   "display_name": "Python 3",
   "language": "python",
   "name": "python3"
  },
  "language_info": {
   "codemirror_mode": {
    "name": "ipython",
    "version": 3
   },
   "file_extension": ".py",
   "mimetype": "text/x-python",
   "name": "python",
   "nbconvert_exporter": "python",
   "pygments_lexer": "ipython3",
   "version": "3.5.2"
  }
 },
 "nbformat": 4,
 "nbformat_minor": 1
}
